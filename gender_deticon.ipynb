{
 "cells": [
  {
   "cell_type": "code",
   "execution_count": 1,
   "metadata": {},
   "outputs": [],
   "source": [
    "from tensorflow.keras.preprocessing.image import ImageDataGenerator\n",
    "from tensorflow.keras.optimizers import Adam\n",
    "from tensorflow.keras.preprocessing.image import img_to_array\n",
    "from tensorflow.keras.utils import to_categorical, plot_model\n",
    "from tensorflow.keras.models import Sequential\n",
    "from tensorflow.keras.layers import BatchNormalization, Conv2D, MaxPooling2D, Activation, Flatten, Dropout, Dense\n",
    "from tensorflow.keras import backend as K\n",
    "from sklearn.model_selection import train_test_split\n",
    "import matplotlib.pyplot as plt\n",
    "import numpy as np\n",
    "import random\n",
    "import cv2\n",
    "import os\n",
    "import glob\n"
   ]
  },
  {
   "cell_type": "code",
   "execution_count": 2,
   "metadata": {},
   "outputs": [],
   "source": [
    "\n",
    "# initial parameters\n",
    "epochs = 50\n",
    "lr = 1e-3\n",
    "batch_size = 64\n",
    "img_dims = (100,100,3)\n",
    "\n",
    "data = []\n",
    "labels = []\n"
   ]
  },
  {
   "cell_type": "code",
   "execution_count": 3,
   "metadata": {},
   "outputs": [],
   "source": [
    "\n",
    "# load image files from the dataset\n",
    "image_files = [f for f in glob.glob(r'C:\\Users\\harsha.teja\\Desktop\\myg\\deep learning\\DEEP projects\\genderfemale\\gender_dataset_face' + \"/**/*\", recursive=True) if not os.path.isdir(f)]\n",
    "random.shuffle(image_files)\n"
   ]
  },
  {
   "cell_type": "code",
   "execution_count": 4,
   "metadata": {},
   "outputs": [],
   "source": [
    "\n",
    "# converting images to arrays and labelling the categories\n",
    "for img in image_files:\n",
    "\n",
    "    image = cv2.imread(img)\n",
    "    \n",
    "    image = cv2.resize(image, (img_dims[0],img_dims[1]))\n",
    "    image = img_to_array(image)\n",
    "    data.append(image)\n",
    "\n",
    "    label = img.split(os.path.sep)[-2] # C:\\Files\\gender_dataset_face\\woman\\face_1162.jpg\n",
    "    if label == \"woman\":\n",
    "        label = 1\n",
    "    else:\n",
    "        label = 0\n",
    "        \n",
    "    labels.append([label]) # [[1], [0], [0], ...]\n"
   ]
  },
  {
   "cell_type": "code",
   "execution_count": 5,
   "metadata": {},
   "outputs": [],
   "source": [
    "\n",
    "# pre-processing\n",
    "data = np.array(data, dtype=\"float\") / 255.0\n",
    "labels = np.array(labels)\n"
   ]
  },
  {
   "cell_type": "code",
   "execution_count": 6,
   "metadata": {},
   "outputs": [],
   "source": [
    "\n",
    "# split dataset for training and validation\n",
    "(trainX, testX, trainY, testY) = train_test_split(data, labels, test_size=0.2,\n",
    "                                                  random_state=42)\n",
    "\n",
    "trainY = to_categorical(trainY, num_classes=2) # [[1, 0], [0, 1], [0, 1], ...]\n",
    "testY = to_categorical(testY, num_classes=2)\n",
    "\n",
    "\n"
   ]
  },
  {
   "cell_type": "code",
   "execution_count": 7,
   "metadata": {},
   "outputs": [],
   "source": [
    "# augmenting datset \n",
    "aug = ImageDataGenerator(rotation_range=25, width_shift_range=0.1,\n",
    "                         height_shift_range=0.1, shear_range=0.2, zoom_range=0.2,\n",
    "                         horizontal_flip=True, fill_mode=\"nearest\")\n"
   ]
  },
  {
   "cell_type": "code",
   "execution_count": 8,
   "metadata": {},
   "outputs": [],
   "source": [
    "\n",
    "# define model\n",
    "def build(width, height, depth, classes):\n",
    "    model = Sequential()\n",
    "    inputShape = (height, width, depth)\n",
    "    chanDim = -1\n",
    "\n",
    "    if K.image_data_format() == \"channels_first\": #Returns a string, either 'channels_first' or 'channels_last'\n",
    "        inputShape = (depth, height, width)\n",
    "        chanDim = 1\n",
    "    \n",
    "    # The axis that should be normalized, after a Conv2D layer with data_format=\"channels_first\", \n",
    "    # set axis=1 in BatchNormalization.\n",
    "\n",
    "    model.add(Conv2D(32, (3,3), padding=\"same\", input_shape=inputShape))\n",
    "    model.add(Activation(\"relu\"))\n",
    "    model.add(BatchNormalization(axis=chanDim))\n",
    "    model.add(MaxPooling2D(pool_size=(3,3)))\n",
    "    model.add(Dropout(0.25))\n",
    "\n",
    "    model.add(Conv2D(64, (3,3), padding=\"same\"))\n",
    "    model.add(Activation(\"relu\"))\n",
    "    model.add(BatchNormalization(axis=chanDim))\n",
    "\n",
    "    model.add(Conv2D(64, (3,3), padding=\"same\"))\n",
    "    model.add(Activation(\"relu\"))\n",
    "    model.add(BatchNormalization(axis=chanDim))\n",
    "    model.add(MaxPooling2D(pool_size=(2,2)))\n",
    "    model.add(Dropout(0.25))\n",
    "\n",
    "    model.add(Conv2D(128, (3,3), padding=\"same\"))\n",
    "    model.add(Activation(\"relu\"))\n",
    "    model.add(BatchNormalization(axis=chanDim))\n",
    "\n",
    "    model.add(Conv2D(128, (3,3), padding=\"same\"))\n",
    "    model.add(Activation(\"relu\"))\n",
    "    model.add(BatchNormalization(axis=chanDim))\n",
    "    model.add(MaxPooling2D(pool_size=(2,2)))\n",
    "    model.add(Dropout(0.25))\n",
    "\n",
    "    model.add(Flatten())\n",
    "    model.add(Dense(1024))\n",
    "    model.add(Activation(\"relu\"))\n",
    "    model.add(BatchNormalization())\n",
    "    model.add(Dropout(0.5))\n",
    "\n",
    "    model.add(Dense(classes))\n",
    "    model.add(Activation(\"sigmoid\"))\n",
    "\n",
    "    return model\n"
   ]
  },
  {
   "cell_type": "code",
   "execution_count": 9,
   "metadata": {},
   "outputs": [],
   "source": [
    "\n",
    "# build model\n",
    "model = build(width=img_dims[0], height=img_dims[1], depth=img_dims[2],\n",
    "                            classes=2)\n",
    "\n",
    "# compile the model\n",
    "opt = Adam(lr=lr, decay=lr/epochs)\n",
    "model.compile(loss=\"binary_crossentropy\", optimizer=opt, metrics=[\"accuracy\"])\n"
   ]
  },
  {
   "cell_type": "code",
   "execution_count": 10,
   "metadata": {},
   "outputs": [],
   "source": [
    "from tensorflow.keras.callbacks import TensorBoard\n",
    "import time\n",
    "NAME = f'man-vs-woman-predication-{int(time.time())}'\n",
    "tensorboard = TensorBoard(log_dir=f'logs\\\\{NAME}\\\\')"
   ]
  },
  {
   "cell_type": "code",
   "execution_count": 11,
   "metadata": {},
   "outputs": [],
   "source": [
    "from tensordash.tensordash import Tensordash\n",
    "histories = Tensordash(\n",
    "    ModelName = 'Mobilenet',\n",
    "    email = 'harshabolla@gmail.com', \n",
    "    password = 'Satya@406')"
   ]
  },
  {
   "cell_type": "code",
   "execution_count": 12,
   "metadata": {},
   "outputs": [
    {
     "name": "stdout",
     "output_type": "stream",
     "text": [
      "WARNING:tensorflow:From <ipython-input-12-2273d218c060>:5: Model.fit_generator (from tensorflow.python.keras.engine.training) is deprecated and will be removed in a future version.\n",
      "Instructions for updating:\n",
      "Please use Model.fit, which supports generators.\n",
      "Epoch 1/50\n",
      "WARNING:tensorflow:AutoGraph could not transform <function Model.make_train_function.<locals>.train_function at 0x0000025279DBC598> and will run it as-is.\n",
      "Please report this to the TensorFlow team. When filing the bug, set the verbosity to 10 (on Linux, `export AUTOGRAPH_VERBOSITY=10`) and attach the full output.\n",
      "Cause: 'arguments' object has no attribute 'posonlyargs'\n",
      "To silence this warning, decorate the function with @tf.autograph.experimental.do_not_convert\n",
      "WARNING: AutoGraph could not transform <function Model.make_train_function.<locals>.train_function at 0x0000025279DBC598> and will run it as-is.\n",
      "Please report this to the TensorFlow team. When filing the bug, set the verbosity to 10 (on Linux, `export AUTOGRAPH_VERBOSITY=10`) and attach the full output.\n",
      "Cause: 'arguments' object has no attribute 'posonlyargs'\n",
      "To silence this warning, decorate the function with @tf.autograph.experimental.do_not_convert\n",
      " 1/28 [>.............................] - ETA: 0s - loss: 1.0196 - accuracy: 0.5469WARNING:tensorflow:From C:\\Users\\harsha.teja\\Anaconda3\\envs\\deeplearning\\lib\\site-packages\\tensorflow\\python\\ops\\summary_ops_v2.py:1277: stop (from tensorflow.python.eager.profiler) is deprecated and will be removed after 2020-07-01.\n",
      "Instructions for updating:\n",
      "use `tf.profiler.experimental.stop` instead.\n",
      "28/28 [==============================] - ETA: 0s - loss: 0.8245 - accuracy: 0.7159WARNING:tensorflow:AutoGraph could not transform <function Model.make_test_function.<locals>.test_function at 0x0000025277781048> and will run it as-is.\n",
      "Please report this to the TensorFlow team. When filing the bug, set the verbosity to 10 (on Linux, `export AUTOGRAPH_VERBOSITY=10`) and attach the full output.\n",
      "Cause: 'arguments' object has no attribute 'posonlyargs'\n",
      "To silence this warning, decorate the function with @tf.autograph.experimental.do_not_convert\n",
      "WARNING: AutoGraph could not transform <function Model.make_test_function.<locals>.test_function at 0x0000025277781048> and will run it as-is.\n",
      "Please report this to the TensorFlow team. When filing the bug, set the verbosity to 10 (on Linux, `export AUTOGRAPH_VERBOSITY=10`) and attach the full output.\n",
      "Cause: 'arguments' object has no attribute 'posonlyargs'\n",
      "To silence this warning, decorate the function with @tf.autograph.experimental.do_not_convert\n",
      "28/28 [==============================] - 153s 5s/step - loss: 0.8245 - accuracy: 0.7159 - val_loss: 0.7034 - val_accuracy: 0.5173\n",
      "Epoch 2/50\n",
      "28/28 [==============================] - 146s 5s/step - loss: 0.5110 - accuracy: 0.8012 - val_loss: 1.1450 - val_accuracy: 0.4827\n",
      "Epoch 3/50\n",
      "28/28 [==============================] - 143s 5s/step - loss: 0.4606 - accuracy: 0.8304 - val_loss: 1.0526 - val_accuracy: 0.4827\n",
      "Epoch 4/50\n",
      "28/28 [==============================] - 134s 5s/step - loss: 0.4038 - accuracy: 0.8462 - val_loss: 1.8115 - val_accuracy: 0.4827\n",
      "Epoch 5/50\n",
      "28/28 [==============================] - 134s 5s/step - loss: 0.4220 - accuracy: 0.8411 - val_loss: 1.4454 - val_accuracy: 0.4827\n",
      "Epoch 6/50\n",
      "28/28 [==============================] - 139s 5s/step - loss: 0.3563 - accuracy: 0.8686 - val_loss: 1.2216 - val_accuracy: 0.4827\n",
      "Epoch 7/50\n",
      "28/28 [==============================] - 135s 5s/step - loss: 0.3320 - accuracy: 0.8765 - val_loss: 1.0533 - val_accuracy: 0.5022\n",
      "Epoch 8/50\n",
      "28/28 [==============================] - 141s 5s/step - loss: 0.3143 - accuracy: 0.8832 - val_loss: 1.6858 - val_accuracy: 0.4827\n",
      "Epoch 9/50\n",
      "28/28 [==============================] - 140s 5s/step - loss: 0.2854 - accuracy: 0.8967 - val_loss: 0.5732 - val_accuracy: 0.6970\n",
      "Epoch 10/50\n",
      "28/28 [==============================] - 154s 5s/step - loss: 0.2407 - accuracy: 0.9057 - val_loss: 0.2998 - val_accuracy: 0.9156\n",
      "Epoch 11/50\n",
      "28/28 [==============================] - 139s 5s/step - loss: 0.2208 - accuracy: 0.9203 - val_loss: 0.3607 - val_accuracy: 0.8442\n",
      "Epoch 12/50\n",
      "28/28 [==============================] - 142s 5s/step - loss: 0.2241 - accuracy: 0.9147 - val_loss: 0.3593 - val_accuracy: 0.8658\n",
      "Epoch 13/50\n",
      "28/28 [==============================] - 137s 5s/step - loss: 0.1833 - accuracy: 0.9332 - val_loss: 0.4493 - val_accuracy: 0.8030\n",
      "Epoch 14/50\n",
      "28/28 [==============================] - 135s 5s/step - loss: 0.1705 - accuracy: 0.9394 - val_loss: 0.2332 - val_accuracy: 0.9134\n",
      "Epoch 15/50\n",
      "28/28 [==============================] - 151s 5s/step - loss: 0.1747 - accuracy: 0.9332 - val_loss: 0.2268 - val_accuracy: 0.9177\n",
      "Epoch 16/50\n",
      "28/28 [==============================] - 148s 5s/step - loss: 0.1794 - accuracy: 0.9315 - val_loss: 0.2254 - val_accuracy: 0.9113\n",
      "Epoch 17/50\n",
      "28/28 [==============================] - 149s 5s/step - loss: 0.1754 - accuracy: 0.9371 - val_loss: 0.1500 - val_accuracy: 0.9589\n",
      "Epoch 18/50\n",
      "28/28 [==============================] - 142s 5s/step - loss: 0.1445 - accuracy: 0.9467 - val_loss: 0.1362 - val_accuracy: 0.9481\n",
      "Epoch 19/50\n",
      "28/28 [==============================] - 144s 5s/step - loss: 0.1315 - accuracy: 0.9528 - val_loss: 0.2498 - val_accuracy: 0.9091\n",
      "Epoch 20/50\n",
      "28/28 [==============================] - 143s 5s/step - loss: 0.1497 - accuracy: 0.9444 - val_loss: 0.0992 - val_accuracy: 0.9632\n",
      "Epoch 21/50\n",
      "28/28 [==============================] - 147s 5s/step - loss: 0.1145 - accuracy: 0.9562 - val_loss: 0.0848 - val_accuracy: 0.9675\n",
      "Epoch 22/50\n",
      "28/28 [==============================] - 141s 5s/step - loss: 0.1276 - accuracy: 0.9506 - val_loss: 0.1000 - val_accuracy: 0.9632\n",
      "Epoch 23/50\n",
      "28/28 [==============================] - 183s 7s/step - loss: 0.1483 - accuracy: 0.9483 - val_loss: 1.1390 - val_accuracy: 0.6991\n",
      "Epoch 24/50\n",
      "28/28 [==============================] - 227s 8s/step - loss: 0.1132 - accuracy: 0.9601 - val_loss: 0.1054 - val_accuracy: 0.9524\n",
      "Epoch 25/50\n",
      "28/28 [==============================] - 185s 7s/step - loss: 0.0921 - accuracy: 0.9697 - val_loss: 0.1087 - val_accuracy: 0.9632\n",
      "Epoch 26/50\n",
      "28/28 [==============================] - 174s 6s/step - loss: 0.1307 - accuracy: 0.9489 - val_loss: 0.0545 - val_accuracy: 0.9805\n",
      "Epoch 27/50\n",
      "28/28 [==============================] - 173s 6s/step - loss: 0.1368 - accuracy: 0.9515 - val_loss: 0.1127 - val_accuracy: 0.9697\n",
      "Epoch 28/50\n",
      "28/28 [==============================] - 204s 7s/step - loss: 0.1215 - accuracy: 0.9523 - val_loss: 0.0881 - val_accuracy: 0.9675\n",
      "Epoch 29/50\n",
      "28/28 [==============================] - 189s 7s/step - loss: 0.1231 - accuracy: 0.9500 - val_loss: 0.0537 - val_accuracy: 0.9827\n",
      "Epoch 30/50\n",
      "28/28 [==============================] - 173s 6s/step - loss: 0.0880 - accuracy: 0.9669 - val_loss: 0.1023 - val_accuracy: 0.9654\n",
      "Epoch 31/50\n",
      "28/28 [==============================] - 169s 6s/step - loss: 0.0946 - accuracy: 0.9680 - val_loss: 0.2959 - val_accuracy: 0.9048\n",
      "Epoch 32/50\n",
      "28/28 [==============================] - 162s 6s/step - loss: 0.0967 - accuracy: 0.9618 - val_loss: 0.0945 - val_accuracy: 0.9632\n",
      "Epoch 33/50\n",
      "28/28 [==============================] - 144s 5s/step - loss: 0.1064 - accuracy: 0.9618 - val_loss: 0.1233 - val_accuracy: 0.9524\n",
      "Epoch 34/50\n",
      "28/28 [==============================] - 138s 5s/step - loss: 0.0885 - accuracy: 0.9686 - val_loss: 0.3025 - val_accuracy: 0.9069\n",
      "Epoch 35/50\n",
      "28/28 [==============================] - 147s 5s/step - loss: 0.0782 - accuracy: 0.9736 - val_loss: 0.0856 - val_accuracy: 0.9654\n",
      "Epoch 36/50\n",
      "28/28 [==============================] - 136s 5s/step - loss: 0.1218 - accuracy: 0.9562 - val_loss: 1.0505 - val_accuracy: 0.7208\n",
      "Epoch 37/50\n",
      "28/28 [==============================] - 139s 5s/step - loss: 0.1161 - accuracy: 0.9562 - val_loss: 0.0704 - val_accuracy: 0.9740\n",
      "Epoch 38/50\n",
      "28/28 [==============================] - 140s 5s/step - loss: 0.0841 - accuracy: 0.9657 - val_loss: 0.0713 - val_accuracy: 0.9740\n",
      "Epoch 39/50\n",
      "28/28 [==============================] - 142s 5s/step - loss: 0.0768 - accuracy: 0.9742 - val_loss: 0.0536 - val_accuracy: 0.9784\n",
      "Epoch 40/50\n",
      "28/28 [==============================] - 136s 5s/step - loss: 0.0863 - accuracy: 0.9697 - val_loss: 0.6057 - val_accuracy: 0.8268\n"
     ]
    },
    {
     "name": "stdout",
     "output_type": "stream",
     "text": [
      "Epoch 41/50\n",
      "28/28 [==============================] - 131s 5s/step - loss: 0.0824 - accuracy: 0.9669 - val_loss: 0.2135 - val_accuracy: 0.9307\n",
      "Epoch 42/50\n",
      "28/28 [==============================] - 135s 5s/step - loss: 0.0854 - accuracy: 0.9693 - val_loss: 0.1235 - val_accuracy: 0.9567\n",
      "Epoch 43/50\n",
      "28/28 [==============================] - 83s 3s/step - loss: 0.0687 - accuracy: 0.9736 - val_loss: 0.2292 - val_accuracy: 0.9351\n",
      "Epoch 44/50\n",
      "28/28 [==============================] - 72s 3s/step - loss: 0.0949 - accuracy: 0.9657 - val_loss: 0.4902 - val_accuracy: 0.8442\n",
      "Epoch 45/50\n",
      "28/28 [==============================] - 65s 2s/step - loss: 0.0860 - accuracy: 0.9669 - val_loss: 0.2318 - val_accuracy: 0.9199\n",
      "Epoch 46/50\n",
      "28/28 [==============================] - 75s 3s/step - loss: 0.0628 - accuracy: 0.9747 - val_loss: 0.1234 - val_accuracy: 0.9502\n",
      "Epoch 47/50\n",
      "28/28 [==============================] - 76s 3s/step - loss: 0.0619 - accuracy: 0.9803 - val_loss: 0.4668 - val_accuracy: 0.8745\n",
      "Epoch 48/50\n",
      "28/28 [==============================] - 64s 2s/step - loss: 0.0555 - accuracy: 0.9809 - val_loss: 0.0442 - val_accuracy: 0.9827\n",
      "Epoch 49/50\n",
      "28/28 [==============================] - 73s 3s/step - loss: 0.0493 - accuracy: 0.9837 - val_loss: 0.1692 - val_accuracy: 0.9394\n",
      "Epoch 50/50\n",
      "28/28 [==============================] - 77s 3s/step - loss: 0.0680 - accuracy: 0.9759 - val_loss: 0.0750 - val_accuracy: 0.9697\n"
     ]
    }
   ],
   "source": [
    "\n",
    "# train the model\n",
    "H = model.fit_generator(aug.flow(trainX, trainY, batch_size=batch_size),\n",
    "                        validation_data=(testX,testY),\n",
    "                        steps_per_epoch=len(trainX) // batch_size,\n",
    "                        epochs=epochs, verbose=1,callbacks=[tensorboard,histories])\n"
   ]
  },
  {
   "cell_type": "code",
   "execution_count": 13,
   "metadata": {},
   "outputs": [
    {
     "name": "stdout",
     "output_type": "stream",
     "text": [
      "C:\\Users\\harsha.teja\\Desktop\\myg\\deep learning\\DEEP projects\\genderfemale\n"
     ]
    }
   ],
   "source": [
    "cd C:\\Users\\harsha.teja\\Desktop\\myg\\deep learning\\DEEP projects\\genderfemale"
   ]
  },
  {
   "cell_type": "code",
   "execution_count": 14,
   "metadata": {},
   "outputs": [
    {
     "name": "stdout",
     "output_type": "stream",
     "text": [
      "[INFO] saving mask detector model...\n"
     ]
    }
   ],
   "source": [
    "print(\"[INFO] saving mask detector model...\")\n",
    "model.save(\"manwoman2.model\", save_format=\"h5\")\n"
   ]
  },
  {
   "cell_type": "code",
   "execution_count": 23,
   "metadata": {},
   "outputs": [
    {
     "name": "stdout",
     "output_type": "stream",
     "text": [
      "train: 0.990, Test: 0.970\n"
     ]
    }
   ],
   "source": [
    "loss,train_acc=model.evaluate(trainX, trainY ,verbose=0)\n",
    "loss,test_acc=model.evaluate(testX,testY ,verbose=0)\n",
    "print(\"train: %.3f, Test: %.3f\" % (train_acc,test_acc))\n"
   ]
  },
  {
   "cell_type": "code",
   "execution_count": 26,
   "metadata": {},
   "outputs": [
    {
     "name": "stdout",
     "output_type": "stream",
     "text": [
      "test loss: 0.075\n",
      "accuracy: 0.990\n"
     ]
    }
   ],
   "source": [
    "print('test loss: %.3f'% loss)\n",
    "print('accuracy: %.3f' % train_acc)"
   ]
  },
  {
   "cell_type": "code",
   "execution_count": 20,
   "metadata": {},
   "outputs": [
    {
     "ename": "KeyError",
     "evalue": "'acc'",
     "output_type": "error",
     "traceback": [
      "\u001b[1;31m---------------------------------------------------------------------------\u001b[0m",
      "\u001b[1;31mKeyError\u001b[0m                                  Traceback (most recent call last)",
      "\u001b[1;32m<ipython-input-20-d4ab1f39824e>\u001b[0m in \u001b[0;36m<module>\u001b[1;34m\u001b[0m\n\u001b[0;32m      5\u001b[0m \u001b[0mplt\u001b[0m\u001b[1;33m.\u001b[0m\u001b[0mplot\u001b[0m\u001b[1;33m(\u001b[0m\u001b[0mnp\u001b[0m\u001b[1;33m.\u001b[0m\u001b[0marange\u001b[0m\u001b[1;33m(\u001b[0m\u001b[1;36m0\u001b[0m\u001b[1;33m,\u001b[0m\u001b[0mN\u001b[0m\u001b[1;33m)\u001b[0m\u001b[1;33m,\u001b[0m \u001b[0mH\u001b[0m\u001b[1;33m.\u001b[0m\u001b[0mhistory\u001b[0m\u001b[1;33m[\u001b[0m\u001b[1;34m\"loss\"\u001b[0m\u001b[1;33m]\u001b[0m\u001b[1;33m,\u001b[0m \u001b[0mlabel\u001b[0m\u001b[1;33m=\u001b[0m\u001b[1;34m\"train_loss\"\u001b[0m\u001b[1;33m)\u001b[0m\u001b[1;33m\u001b[0m\u001b[0m\n\u001b[0;32m      6\u001b[0m \u001b[0mplt\u001b[0m\u001b[1;33m.\u001b[0m\u001b[0mplot\u001b[0m\u001b[1;33m(\u001b[0m\u001b[0mnp\u001b[0m\u001b[1;33m.\u001b[0m\u001b[0marange\u001b[0m\u001b[1;33m(\u001b[0m\u001b[1;36m0\u001b[0m\u001b[1;33m,\u001b[0m\u001b[0mN\u001b[0m\u001b[1;33m)\u001b[0m\u001b[1;33m,\u001b[0m \u001b[0mH\u001b[0m\u001b[1;33m.\u001b[0m\u001b[0mhistory\u001b[0m\u001b[1;33m[\u001b[0m\u001b[1;34m\"val_loss\"\u001b[0m\u001b[1;33m]\u001b[0m\u001b[1;33m,\u001b[0m \u001b[0mlabel\u001b[0m\u001b[1;33m=\u001b[0m\u001b[1;34m\"val_loss\"\u001b[0m\u001b[1;33m)\u001b[0m\u001b[1;33m\u001b[0m\u001b[0m\n\u001b[1;32m----> 7\u001b[1;33m \u001b[0mplt\u001b[0m\u001b[1;33m.\u001b[0m\u001b[0mplot\u001b[0m\u001b[1;33m(\u001b[0m\u001b[0mnp\u001b[0m\u001b[1;33m.\u001b[0m\u001b[0marange\u001b[0m\u001b[1;33m(\u001b[0m\u001b[1;36m0\u001b[0m\u001b[1;33m,\u001b[0m\u001b[0mN\u001b[0m\u001b[1;33m)\u001b[0m\u001b[1;33m,\u001b[0m \u001b[0mH\u001b[0m\u001b[1;33m.\u001b[0m\u001b[0mhistory\u001b[0m\u001b[1;33m[\u001b[0m\u001b[1;34m\"acc\"\u001b[0m\u001b[1;33m]\u001b[0m\u001b[1;33m,\u001b[0m \u001b[0mlabel\u001b[0m\u001b[1;33m=\u001b[0m\u001b[1;34m\"train_acc\"\u001b[0m\u001b[1;33m)\u001b[0m\u001b[1;33m\u001b[0m\u001b[0m\n\u001b[0m\u001b[0;32m      8\u001b[0m \u001b[0mplt\u001b[0m\u001b[1;33m.\u001b[0m\u001b[0mplot\u001b[0m\u001b[1;33m(\u001b[0m\u001b[0mnp\u001b[0m\u001b[1;33m.\u001b[0m\u001b[0marange\u001b[0m\u001b[1;33m(\u001b[0m\u001b[1;36m0\u001b[0m\u001b[1;33m,\u001b[0m\u001b[0mN\u001b[0m\u001b[1;33m)\u001b[0m\u001b[1;33m,\u001b[0m \u001b[0mH\u001b[0m\u001b[1;33m.\u001b[0m\u001b[0mhistory\u001b[0m\u001b[1;33m[\u001b[0m\u001b[1;34m\"val_acc\"\u001b[0m\u001b[1;33m]\u001b[0m\u001b[1;33m,\u001b[0m \u001b[0mlabel\u001b[0m\u001b[1;33m=\u001b[0m\u001b[1;34m\"val_acc\"\u001b[0m\u001b[1;33m)\u001b[0m\u001b[1;33m\u001b[0m\u001b[0m\n\u001b[0;32m      9\u001b[0m \u001b[1;33m\u001b[0m\u001b[0m\n",
      "\u001b[1;31mKeyError\u001b[0m: 'acc'"
     ]
    },
    {
     "data": {
      "image/png": "[encoded data removed]",
      "text/plain": [
       "<Figure size 432x288 with 1 Axes>"
      ]
     },
     "metadata": {},
     "output_type": "display_data"
    }
   ],
   "source": [
    "\n",
    "# plot training/validation loss/accuracy\n",
    "plt.style.use(\"ggplot\")\n",
    "plt.figure()\n",
    "N = epochs\n",
    "plt.plot(np.arange(0,N), H.history[\"loss\"], label=\"train_loss\")\n",
    "plt.plot(np.arange(0,N), H.history[\"val_loss\"], label=\"val_loss\")\n",
    "plt.plot(np.arange(0,N), H.history[\"acc\"], label=\"train_acc\")\n",
    "plt.plot(np.arange(0,N), H.history[\"val_acc\"], label=\"val_acc\")\n",
    "\n",
    "plt.title(\"Training Loss and Accuracy\")\n",
    "plt.xlabel(\"Epoch #\")\n",
    "plt.ylabel(\"Loss/Accuracy\")\n",
    "plt.legend(loc=\"upper right\")\n",
    "\n",
    "# save plot to disk\n",
    "plt.savefig('plot.png')"
   ]
  },
  {
   "cell_type": "code",
   "execution_count": null,
   "metadata": {},
   "outputs": [],
   "source": []
  }
 ],
 "metadata": {
  "kernelspec": {
   "display_name": "Python 3",
   "language": "python",
   "name": "python3"
  },
  "language_info": {
   "codemirror_mode": {
    "name": "ipython",
    "version": 3
   },
   "file_extension": ".py",
   "mimetype": "text/x-python",
   "name": "python",
   "nbconvert_exporter": "python",
   "pygments_lexer": "ipython3",
   "version": "3.7.0"
  }
 },
 "nbformat": 4,
 "nbformat_minor": 4
}
